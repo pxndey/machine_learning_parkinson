{
 "cells": [
  {
   "cell_type": "code",
   "execution_count": 82,
   "id": "692be0b3-f5e4-49ac-ae38-344b48028a8b",
   "metadata": {
    "tags": []
   },
   "outputs": [],
   "source": [
    "import os\n",
    "import numpy as np\n",
    "from PIL import Image\n",
    "import numpy as np\n",
    "import pandas as pd\n",
    "import matplotlib.pyplot as plt\n",
    "import seaborn as sns"
   ]
  },
  {
   "cell_type": "code",
   "execution_count": 83,
   "id": "409fddd7-a410-43af-b7e1-ba2cd5da256d",
   "metadata": {
    "tags": []
   },
   "outputs": [
    {
     "name": "stdout",
     "output_type": "stream",
     "text": [
      "Loaded 51 healthy images and 51 parkinson images\n",
      "Image shape: (224, 224, 3)\n",
      "Number of classes: 2\n"
     ]
    }
   ],
   "source": [
    "def load_images_from_folder(base_path):\n",
    "    datasets = {'healthy': {'images': [], 'labels': []},\n",
    "                'parkinson': {'images': [], 'labels': []}}\n",
    "    \n",
    "    for dataset in ['testing', 'training']:\n",
    "        dataset_path = os.path.join(base_path, 'spiral', dataset)\n",
    "        \n",
    "        for class_label, class_folder in enumerate(['healthy', 'parkinson']):\n",
    "            class_path = os.path.join(dataset_path, class_folder)\n",
    "            \n",
    "            if os.path.isdir(class_path):\n",
    "                for filename in os.listdir(class_path):\n",
    "                    img_path = os.path.join(class_path, filename)\n",
    "                    \n",
    "                    try:\n",
    "                        with Image.open(img_path) as img:\n",
    "                            img = img.convert('RGB')\n",
    "                            img = img.resize((224, 224))  # Adjust size as needed\n",
    "                            img_array = np.array(img)\n",
    "                            datasets[class_folder]['images'].append(img_array)\n",
    "                            datasets[class_folder]['labels'].append(class_label)\n",
    "                    except Exception as e:\n",
    "                        print(f\"Error loading image {img_path}: {e}\")\n",
    "    \n",
    "    # Convert lists to numpy arrays\n",
    "    for dataset in datasets:\n",
    "        datasets[dataset]['images'] = np.array(datasets[dataset]['images'])\n",
    "        datasets[dataset]['labels'] = np.array(datasets[dataset]['labels'])\n",
    "    \n",
    "    return datasets\n",
    "\n",
    "# Usage\n",
    "base_path = 'D:\\Projects\\Parkinsons_disease\\image_model\\data'\n",
    "datasets = load_images_from_folder(base_path)\n",
    "\n",
    "# Access healthy and parkinson data separately\n",
    "X_healthy, y_healthy = datasets['healthy']['images'], datasets['healthy']['labels']\n",
    "X_parkinson, y_parkinson = datasets['parkinson']['images'], datasets['parkinson']['labels']\n",
    "\n",
    "print(f\"Loaded {len(X_healthy)} healthy images and {len(X_parkinson)} parkinson images\")\n",
    "print(f\"Image shape: {X_healthy[0].shape}\")\n",
    "print(f\"Number of classes: {len(np.unique(np.concatenate([y_healthy, y_parkinson])))}\")"
   ]
  },
  {
   "cell_type": "code",
   "execution_count": 84,
   "id": "33bb4da7-f3cb-4200-9fc0-36b4004c4e6f",
   "metadata": {
    "tags": []
   },
   "outputs": [],
   "source": [
    "df = pd.read_csv('D:/Projects/Parkinsons_disease/image_model/data/parkinsons_disease_data.csv')"
   ]
  },
  {
   "cell_type": "code",
   "execution_count": 85,
   "id": "97d81fd8-4c66-4811-8eea-a941326c9f05",
   "metadata": {
    "tags": []
   },
   "outputs": [],
   "source": [
    "df=df.drop(['PatientID','DoctorInCharge'],axis=1)"
   ]
  },
  {
   "cell_type": "code",
   "execution_count": 86,
   "id": "3cac949f-07c0-441a-8c28-17375d1c0cf5",
   "metadata": {
    "tags": []
   },
   "outputs": [],
   "source": [
    "dff = df.drop(['SystolicBP', 'CholesterolLDL', 'CholesterolHDL',\n",
    "       'CholesterolTriglycerides','DiastolicBP', 'Gender', 'Ethnicity', 'EducationLevel', 'BMI', 'Smoking',\n",
    "       'AlcoholConsumption', 'PhysicalActivity', 'DietQuality', 'SleepQuality',\n",
    "        'TraumaticBrainInjury', 'Hypertension',\n",
    "       'Diabetes', 'Stroke','AlcoholConsumption','Constipation',\n",
    "       'CholesterolTriglycerides',],axis=1)\n",
    "XX = dff.drop('Diagnosis',axis=1)\n",
    "y = dff['Diagnosis']"
   ]
  },
  {
   "cell_type": "code",
   "execution_count": 87,
   "id": "792b49a5-9023-471b-b289-83db7e1651e2",
   "metadata": {
    "tags": []
   },
   "outputs": [],
   "source": [
    "from sklearn.model_selection import train_test_split\n",
    "X_train_clinical,X_test_clinical,y_train_clinical,y_test_clinical = train_test_split(XX,y,random_state=0,test_size=0.2)"
   ]
  },
  {
   "cell_type": "code",
   "execution_count": 88,
   "id": "9a4d9040",
   "metadata": {},
   "outputs": [
    {
     "data": {
      "image/png": "[encoded data removed]",
      "text/plain": [
       "<Figure size 640x480 with 2 Axes>"
      ]
     },
     "metadata": {},
     "output_type": "display_data"
    },
    {
     "name": "stdout",
     "output_type": "stream",
     "text": [
      "Precision: 0.9247311827956989,recall: 0.9699248120300752,f1:0.9467889908256881\n"
     ]
    }
   ],
   "source": [
    "from sklearn.metrics import precision_score,recall_score,f1_score\n",
    "from sklearn.ensemble import RandomForestClassifier\n",
    "svcModel = RandomForestClassifier(n_estimators=1000,criterion='gini',max_features=None,random_state=42)\n",
    "svcModel.fit(X_train_clinical,y_train_clinical)\n",
    "ypreds = svcModel.predict(X_test_clinical)\n",
    "disp = ConfusionMatrixDisplay(confusion_matrix(y_test_clinical,ypreds))\n",
    "disp.plot()\n",
    "plt.show()\n",
    "print(f\"Precision: {precision_score(y_test_clinical,ypreds)},recall: {recall_score(y_test_clinical,ypreds)},f1:{f1_score(y_test_clinical,ypreds)}\")"
   ]
  },
  {
   "cell_type": "code",
   "execution_count": 89,
   "id": "88a27fea-8202-4544-80fb-1515c7bf3dfe",
   "metadata": {
    "tags": []
   },
   "outputs": [
    {
     "data": {
      "image/png": "[encoded data removed]",
      "text/plain": [
       "<Figure size 640x480 with 2 Axes>"
      ]
     },
     "metadata": {},
     "output_type": "display_data"
    }
   ],
   "source": [
    "import xgboost as xgb\n",
    "from sklearn.metrics import ConfusionMatrixDisplay,confusion_matrix\n",
    "dtrain = xgb.DMatrix(X_train_clinical, label=y_train_clinical)\n",
    "dtest = xgb.DMatrix(X_test_clinical, label=y_test_clinical)\n",
    "\n",
    "params = {\n",
    "    'objective': 'binary:logistic',  # Specify binary classification\n",
    "    'max_depth': 6,  # Maximum depth of a tree\n",
    "    'eta': 0.2,  # Learning rate\n",
    "    'eval_metric': 'logloss'  # Evaluation metric\n",
    "}\n",
    "\n",
    "# Train the model\n",
    "num_rounds = 250\n",
    "bst = xgb.train(params=params,dtrain=dtrain, num_boost_round=num_rounds)\n",
    "preds = bst.predict(dtest)\n",
    "predictions = [1 if p > 0.5 else 0 for p in preds]\n",
    "disp = ConfusionMatrixDisplay(confusion_matrix(y_test_clinical,predictions))\n",
    "disp.plot()\n",
    "plt.show()"
   ]
  },
  {
   "cell_type": "code",
   "execution_count": 90,
   "id": "b837f33e-35d8-47b4-aafc-bb489bf955eb",
   "metadata": {
    "tags": []
   },
   "outputs": [
    {
     "data": {
      "text/plain": [
       "<Axes: title={'center': 'Feature importance'}, xlabel='F score', ylabel='Features'>"
      ]
     },
     "execution_count": 90,
     "metadata": {},
     "output_type": "execute_result"
    },
    {
     "data": {
      "image/png": "[encoded data removed]",
      "text/plain": [
       "<Figure size 640x480 with 1 Axes>"
      ]
     },
     "metadata": {},
     "output_type": "display_data"
    }
   ],
   "source": [
    "xgb.plot_importance(bst)"
   ]
  },
  {
   "cell_type": "code",
   "execution_count": 91,
   "id": "12aa91ab-8f5c-4f98-a5e5-475dc5263be3",
   "metadata": {},
   "outputs": [],
   "source": [
    "# from sklearn.metrics.pairwise import cosine_similarity\n",
    "\n",
    "# # Load saved embeddings\n",
    "# embeddings_A = np.load('embeddings/healthy_embeddings.npy')\n",
    "# embeddings_B = np.load('embeddings/parkinson_embeddings.npy')\n",
    "\n",
    "# def classify_image(image):\n",
    "#     perdictions = []\n",
    "#     embedding_A = healthy_embedding_model.predict(np.expand_dims(image, axis=0))\n",
    "#     embedding_B = parkinson_embedding_model.predict(np.expand_dims(image, axis=0))\n",
    "    \n",
    "#     # Compute similarity scores\n",
    "#     sim_A = np.max(cosine_similarity(embedding_A, embeddings_A))\n",
    "#     sim_B = np.max(cosine_similarity(embedding_B, embeddings_B))\n",
    "    \n",
    "#     if sim_A > sim_B:\n",
    "#         temp = (sim_A+1)/2\n",
    "#         predictions.append(sim_A)\n",
    "#     else:\n",
    "        "
   ]
  },
  {
   "cell_type": "code",
   "execution_count": 92,
   "id": "d42aea3c-a875-4070-9ce5-5a64d27db663",
   "metadata": {
    "tags": []
   },
   "outputs": [],
   "source": [
    "seed = np.random.randint(0,51,45,)"
   ]
  },
  {
   "cell_type": "code",
   "execution_count": 93,
   "id": "3f5122e4-175b-4c8a-b61d-9ad37e79fe47",
   "metadata": {
    "tags": []
   },
   "outputs": [
    {
     "data": {
      "text/plain": [
       "array([22,  7, 41, 49,  9,  0, 19, 36, 17, 20, 48,  3, 42,  1, 20, 36,  4,\n",
       "       16, 48, 47, 10, 45, 40, 30, 27, 43, 31, 20,  6,  9, 27, 47, 35, 19,\n",
       "       12, 18, 49, 10, 34, 33, 43,  3, 12, 36,  1])"
      ]
     },
     "execution_count": 93,
     "metadata": {},
     "output_type": "execute_result"
    }
   ],
   "source": [
    "seed"
   ]
  },
  {
   "cell_type": "code",
   "execution_count": 94,
   "id": "b8fc40a3-9cdd-45cd-aa97-f0985fc43c97",
   "metadata": {
    "tags": []
   },
   "outputs": [],
   "source": [
    "X_test_image_df = []\n",
    "Y_test_image_labels = [0]*45 + [1]*45\n",
    "\n",
    "for element in seed:\n",
    "    X_test_image_df.append(X_healthy[element])\n",
    "for element in seed:\n",
    "    X_test_image_df.append(X_parkinson[element])"
   ]
  },
  {
   "cell_type": "code",
   "execution_count": 95,
   "id": "ab8ae9ab-4cf6-4d78-b7f0-99573c839d02",
   "metadata": {
    "tags": []
   },
   "outputs": [],
   "source": [
    "X_test_image_df = np.array(X_test_image_df)"
   ]
  },
  {
   "cell_type": "code",
   "execution_count": 96,
   "id": "25b009f0-d52d-4f7a-a258-75253fbd5443",
   "metadata": {
    "tags": []
   },
   "outputs": [],
   "source": [
    "from sklearn.metrics.pairwise import cosine_similarity\n",
    "import tensorflow as tf\n",
    "\n",
    "\n",
    "def classify_images(array_of_images):\n",
    "    embeddings_A = np.load('D:\\\\Projects\\\\Parkinsons_disease\\\\image_model\\\\embeddings\\\\healthy_embeddings.npy')\n",
    "    embeddings_B = np.load('D:\\\\Projects\\\\Parkinsons_disease\\\\image_model\\\\embeddings\\\\parkinson_embeddings.npy')\n",
    "    parkinson_embedding_model = tf.keras.models.load_model('D:\\\\Projects\\\\Parkinsons_disease\\\\image_model\\\\data\\\\parkinson_embedding_model.h5')\n",
    "    healthy_embedding_model = tf.keras.models.load_model('D:\\\\Projects\\\\Parkinsons_disease\\\\image_model\\\\data\\\\healthy_embedding_model.h5')\n",
    "    class_confidence = []\n",
    "    for i in range(array_of_images.shape[0]):\n",
    "        embedding_A = healthy_embedding_model.predict(np.expand_dims(array_of_images[i], axis=0))\n",
    "        embedding_B = parkinson_embedding_model.predict(np.expand_dims(array_of_images[i], axis=0))\n",
    "    \n",
    "        # Compute similarity scores\n",
    "        sim_A = np.max(cosine_similarity(embedding_A, embeddings_A))\n",
    "        sim_B = np.max(cosine_similarity(embedding_B, embeddings_B))\n",
    "        if sim_A > sim_B:\n",
    "            class_confidence.append(abs(1-((sim_A+1)/2)))\n",
    "        else:\n",
    "            class_confidence.append(((sim_B+1)/2))\n",
    "    return class_confidence"
   ]
  },
  {
   "cell_type": "code",
   "execution_count": 97,
   "id": "3e032e9a-5542-49d0-9fe6-df1959b96151",
   "metadata": {
    "scrolled": true,
    "tags": []
   },
   "outputs": [
    {
     "name": "stdout",
     "output_type": "stream",
     "text": [
      "WARNING:tensorflow:No training configuration found in the save file, so the model was *not* compiled. Compile it manually.\n",
      "WARNING:tensorflow:No training configuration found in the save file, so the model was *not* compiled. Compile it manually.\n",
      "1/1 [==============================] - 4s 4s/step\n",
      "1/1 [==============================] - 4s 4s/step\n",
      "1/1 [==============================] - 0s 242ms/step\n",
      "1/1 [==============================] - 0s 236ms/step\n",
      "1/1 [==============================] - 0s 241ms/step\n",
      "1/1 [==============================] - 0s 233ms/step\n",
      "1/1 [==============================] - 0s 228ms/step\n",
      "1/1 [==============================] - 0s 239ms/step\n",
      "1/1 [==============================] - 0s 244ms/step\n",
      "1/1 [==============================] - 0s 235ms/step\n",
      "1/1 [==============================] - 0s 236ms/step\n",
      "1/1 [==============================] - 0s 243ms/step\n",
      "1/1 [==============================] - 0s 233ms/step\n",
      "1/1 [==============================] - 0s 234ms/step\n",
      "1/1 [==============================] - 0s 238ms/step\n",
      "1/1 [==============================] - 0s 222ms/step\n",
      "1/1 [==============================] - 0s 317ms/step\n",
      "1/1 [==============================] - 0s 248ms/step\n",
      "1/1 [==============================] - 0s 235ms/step\n",
      "1/1 [==============================] - 0s 241ms/step\n",
      "1/1 [==============================] - 0s 224ms/step\n",
      "1/1 [==============================] - 0s 233ms/step\n",
      "1/1 [==============================] - 0s 231ms/step\n",
      "1/1 [==============================] - 0s 234ms/step\n",
      "1/1 [==============================] - 0s 248ms/step\n",
      "1/1 [==============================] - 0s 241ms/step\n",
      "1/1 [==============================] - 0s 240ms/step\n",
      "1/1 [==============================] - 0s 242ms/step\n",
      "1/1 [==============================] - 0s 234ms/step\n",
      "1/1 [==============================] - 0s 226ms/step\n",
      "1/1 [==============================] - 0s 233ms/step\n",
      "1/1 [==============================] - 0s 243ms/step\n",
      "1/1 [==============================] - 0s 240ms/step\n",
      "1/1 [==============================] - 0s 232ms/step\n",
      "1/1 [==============================] - 0s 247ms/step\n",
      "1/1 [==============================] - 0s 238ms/step\n",
      "1/1 [==============================] - 0s 239ms/step\n",
      "1/1 [==============================] - 0s 225ms/step\n",
      "1/1 [==============================] - 0s 239ms/step\n",
      "1/1 [==============================] - 0s 230ms/step\n",
      "1/1 [==============================] - 0s 227ms/step\n",
      "1/1 [==============================] - 0s 234ms/step\n",
      "1/1 [==============================] - 0s 233ms/step\n",
      "1/1 [==============================] - 0s 232ms/step\n",
      "1/1 [==============================] - 0s 234ms/step\n",
      "1/1 [==============================] - 0s 242ms/step\n",
      "1/1 [==============================] - 0s 244ms/step\n",
      "1/1 [==============================] - 0s 241ms/step\n",
      "1/1 [==============================] - 0s 230ms/step\n",
      "1/1 [==============================] - 0s 228ms/step\n",
      "1/1 [==============================] - 0s 229ms/step\n",
      "1/1 [==============================] - 0s 235ms/step\n",
      "1/1 [==============================] - 0s 239ms/step\n",
      "1/1 [==============================] - 0s 230ms/step\n",
      "1/1 [==============================] - 0s 322ms/step\n",
      "1/1 [==============================] - 0s 234ms/step\n",
      "1/1 [==============================] - 0s 235ms/step\n",
      "1/1 [==============================] - 0s 239ms/step\n",
      "1/1 [==============================] - 0s 244ms/step\n",
      "1/1 [==============================] - 0s 234ms/step\n",
      "1/1 [==============================] - 0s 233ms/step\n",
      "1/1 [==============================] - 0s 231ms/step\n",
      "1/1 [==============================] - 0s 236ms/step\n",
      "1/1 [==============================] - 0s 236ms/step\n",
      "1/1 [==============================] - 0s 233ms/step\n",
      "1/1 [==============================] - 0s 240ms/step\n",
      "1/1 [==============================] - 0s 240ms/step\n",
      "1/1 [==============================] - 0s 231ms/step\n",
      "1/1 [==============================] - 0s 230ms/step\n",
      "1/1 [==============================] - 0s 232ms/step\n",
      "1/1 [==============================] - 0s 240ms/step\n",
      "1/1 [==============================] - 0s 236ms/step\n",
      "1/1 [==============================] - 0s 244ms/step\n",
      "1/1 [==============================] - 0s 241ms/step\n",
      "1/1 [==============================] - 0s 241ms/step\n",
      "1/1 [==============================] - 0s 233ms/step\n",
      "1/1 [==============================] - 0s 234ms/step\n",
      "1/1 [==============================] - 0s 230ms/step\n",
      "1/1 [==============================] - 0s 238ms/step\n",
      "1/1 [==============================] - 0s 247ms/step\n",
      "1/1 [==============================] - 0s 233ms/step\n",
      "1/1 [==============================] - 0s 240ms/step\n",
      "1/1 [==============================] - 0s 235ms/step\n",
      "1/1 [==============================] - 0s 236ms/step\n",
      "1/1 [==============================] - 0s 233ms/step\n",
      "1/1 [==============================] - 0s 232ms/step\n",
      "1/1 [==============================] - 0s 239ms/step\n",
      "1/1 [==============================] - 0s 226ms/step\n",
      "1/1 [==============================] - 0s 233ms/step\n",
      "1/1 [==============================] - 0s 225ms/step\n",
      "1/1 [==============================] - 0s 228ms/step\n",
      "1/1 [==============================] - 0s 230ms/step\n",
      "1/1 [==============================] - 0s 237ms/step\n",
      "1/1 [==============================] - 0s 245ms/step\n",
      "1/1 [==============================] - 0s 243ms/step\n",
      "1/1 [==============================] - 0s 247ms/step\n",
      "1/1 [==============================] - 0s 355ms/step\n",
      "1/1 [==============================] - 0s 273ms/step\n",
      "1/1 [==============================] - 0s 268ms/step\n",
      "1/1 [==============================] - 0s 262ms/step\n",
      "1/1 [==============================] - 0s 253ms/step\n",
      "1/1 [==============================] - 0s 258ms/step\n",
      "1/1 [==============================] - 0s 245ms/step\n",
      "1/1 [==============================] - 0s 246ms/step\n",
      "1/1 [==============================] - 0s 310ms/step\n",
      "1/1 [==============================] - 0s 308ms/step\n",
      "1/1 [==============================] - 0s 249ms/step\n",
      "1/1 [==============================] - 0s 259ms/step\n",
      "1/1 [==============================] - 0s 287ms/step\n",
      "1/1 [==============================] - 0s 258ms/step\n",
      "1/1 [==============================] - 0s 270ms/step\n",
      "1/1 [==============================] - 0s 253ms/step\n",
      "1/1 [==============================] - 0s 250ms/step\n",
      "1/1 [==============================] - 0s 272ms/step\n",
      "1/1 [==============================] - 0s 247ms/step\n",
      "1/1 [==============================] - 0s 248ms/step\n",
      "1/1 [==============================] - 0s 266ms/step\n",
      "1/1 [==============================] - 0s 265ms/step\n",
      "1/1 [==============================] - 0s 284ms/step\n",
      "1/1 [==============================] - 0s 303ms/step\n",
      "1/1 [==============================] - 0s 248ms/step\n",
      "1/1 [==============================] - 0s 243ms/step\n",
      "1/1 [==============================] - 0s 298ms/step\n",
      "1/1 [==============================] - 0s 258ms/step\n",
      "1/1 [==============================] - 0s 300ms/step\n",
      "1/1 [==============================] - 0s 274ms/step\n",
      "1/1 [==============================] - 0s 266ms/step\n",
      "1/1 [==============================] - 0s 295ms/step\n",
      "1/1 [==============================] - 0s 297ms/step\n",
      "1/1 [==============================] - 0s 314ms/step\n",
      "1/1 [==============================] - 0s 300ms/step\n",
      "1/1 [==============================] - 0s 275ms/step\n",
      "1/1 [==============================] - 0s 292ms/step\n",
      "1/1 [==============================] - 0s 283ms/step\n",
      "1/1 [==============================] - 0s 299ms/step\n",
      "1/1 [==============================] - 0s 275ms/step\n",
      "1/1 [==============================] - 0s 282ms/step\n",
      "1/1 [==============================] - 0s 283ms/step\n",
      "1/1 [==============================] - 0s 291ms/step\n",
      "1/1 [==============================] - 0s 299ms/step\n",
      "1/1 [==============================] - 0s 295ms/step\n",
      "1/1 [==============================] - 0s 310ms/step\n",
      "1/1 [==============================] - 0s 283ms/step\n",
      "1/1 [==============================] - 0s 288ms/step\n",
      "1/1 [==============================] - 0s 315ms/step\n",
      "1/1 [==============================] - 0s 291ms/step\n",
      "1/1 [==============================] - 0s 339ms/step\n",
      "1/1 [==============================] - 0s 321ms/step\n",
      "1/1 [==============================] - 0s 275ms/step\n",
      "1/1 [==============================] - 0s 258ms/step\n",
      "1/1 [==============================] - 0s 264ms/step\n",
      "1/1 [==============================] - 0s 257ms/step\n",
      "1/1 [==============================] - 0s 326ms/step\n",
      "1/1 [==============================] - 0s 273ms/step\n",
      "1/1 [==============================] - 0s 264ms/step\n",
      "1/1 [==============================] - 0s 253ms/step\n",
      "1/1 [==============================] - 0s 267ms/step\n",
      "1/1 [==============================] - 0s 255ms/step\n",
      "1/1 [==============================] - 0s 266ms/step\n",
      "1/1 [==============================] - 0s 270ms/step\n",
      "1/1 [==============================] - 0s 258ms/step\n",
      "1/1 [==============================] - 0s 264ms/step\n",
      "1/1 [==============================] - 0s 246ms/step\n",
      "1/1 [==============================] - 0s 254ms/step\n",
      "1/1 [==============================] - 0s 249ms/step\n",
      "1/1 [==============================] - 0s 249ms/step\n",
      "1/1 [==============================] - 0s 245ms/step\n",
      "1/1 [==============================] - 0s 247ms/step\n",
      "1/1 [==============================] - 0s 253ms/step\n",
      "1/1 [==============================] - 0s 256ms/step\n",
      "1/1 [==============================] - 0s 277ms/step\n",
      "1/1 [==============================] - 0s 289ms/step\n",
      "1/1 [==============================] - 0s 263ms/step\n",
      "1/1 [==============================] - 0s 264ms/step\n",
      "1/1 [==============================] - 0s 247ms/step\n",
      "1/1 [==============================] - 0s 249ms/step\n",
      "1/1 [==============================] - 0s 260ms/step\n",
      "1/1 [==============================] - 0s 251ms/step\n",
      "1/1 [==============================] - 0s 248ms/step\n",
      "1/1 [==============================] - 0s 237ms/step\n"
     ]
    }
   ],
   "source": [
    "image_confidence = classify_images(X_test_image_df)"
   ]
  },
  {
   "cell_type": "code",
   "execution_count": 98,
   "id": "a74895bd-0ac6-48f9-ac06-7e0f837c8975",
   "metadata": {
    "scrolled": true,
    "tags": []
   },
   "outputs": [
    {
     "data": {
      "text/plain": [
       "[0.04715079069137573,\n",
       " 0.07326042652130127,\n",
       " 0.054344743490219116,\n",
       " 5.960464477539063e-08,\n",
       " 0.04601505398750305,\n",
       " 1.1920928955078125e-07,\n",
       " 2.086162567138672e-07,\n",
       " 2.980232238769531e-07,\n",
       " 0.09845471382141113,\n",
       " 5.960464477539063e-08,\n",
       " 1.7881393432617188e-07,\n",
       " 8.940696716308594e-08,\n",
       " 1.7881393432617188e-07,\n",
       " 5.066394805908203e-07,\n",
       " 5.960464477539063e-08,\n",
       " 2.980232238769531e-07,\n",
       " 0.09743058681488037,\n",
       " 1.1920928955078125e-07,\n",
       " 1.7881393432617188e-07,\n",
       " 2.384185791015625e-07,\n",
       " 0.09715503454208374,\n",
       " 0.05356478691101074,\n",
       " 2.682209014892578e-07,\n",
       " 1.1920928955078125e-07,\n",
       " 0.05705663561820984,\n",
       " 5.960464477539063e-08,\n",
       " 4.470348358154297e-07,\n",
       " 5.960464477539063e-08,\n",
       " 3.5762786865234375e-07,\n",
       " 0.04601505398750305,\n",
       " 0.05705663561820984,\n",
       " 2.384185791015625e-07,\n",
       " 0.07404455542564392,\n",
       " 2.086162567138672e-07,\n",
       " 0.047133684158325195,\n",
       " 2.384185791015625e-07,\n",
       " 5.960464477539063e-08,\n",
       " 0.09715503454208374,\n",
       " 0.029753029346466064,\n",
       " 0.030162781476974487,\n",
       " 5.960464477539063e-08,\n",
       " 8.940696716308594e-08,\n",
       " 0.047133684158325195,\n",
       " 2.980232238769531e-07,\n",
       " 5.066394805908203e-07,\n",
       " 0.8849819004535675,\n",
       " 0.8411796689033508,\n",
       " 0.13472402095794678,\n",
       " 0.9999996721744537,\n",
       " 0.0653039813041687,\n",
       " 0.9999997019767761,\n",
       " 0.9999998807907104,\n",
       " 0.9999997615814209,\n",
       " 0.9141336679458618,\n",
       " 0.9999997615814209,\n",
       " 1.0000001192092896,\n",
       " 1.0000000596046448,\n",
       " 0.9999998211860657,\n",
       " 1.0000002980232239,\n",
       " 0.9999997615814209,\n",
       " 0.9999997615814209,\n",
       " 0.9057800769805908,\n",
       " 1.0000001192092896,\n",
       " 1.0000001192092896,\n",
       " 0.9999998807907104,\n",
       " 0.8747004270553589,\n",
       " 0.9001836776733398,\n",
       " 0.9999997317790985,\n",
       " 1.0000001192092896,\n",
       " 0.893825113773346,\n",
       " 1.0,\n",
       " 0.9999997317790985,\n",
       " 0.9999997615814209,\n",
       " 1.0000001788139343,\n",
       " 0.0653039813041687,\n",
       " 0.893825113773346,\n",
       " 0.9999998807907104,\n",
       " 0.8998717963695526,\n",
       " 0.9999998807907104,\n",
       " 0.09804460406303406,\n",
       " 1.0000001192092896,\n",
       " 0.9999996721744537,\n",
       " 0.8747004270553589,\n",
       " 0.946456789970398,\n",
       " 0.9285675585269928,\n",
       " 1.0,\n",
       " 1.0000000596046448,\n",
       " 0.09804460406303406,\n",
       " 0.9999997615814209,\n",
       " 1.0000002980232239]"
      ]
     },
     "execution_count": 98,
     "metadata": {},
     "output_type": "execute_result"
    }
   ],
   "source": [
    "image_confidence"
   ]
  },
  {
   "cell_type": "code",
   "execution_count": 99,
   "id": "705890a9-770f-48fd-9d78-00530209bbd1",
   "metadata": {
    "tags": []
   },
   "outputs": [
    {
     "data": {
      "text/plain": [
       "90"
      ]
     },
     "execution_count": 99,
     "metadata": {},
     "output_type": "execute_result"
    }
   ],
   "source": [
    "len(image_confidence)"
   ]
  },
  {
   "cell_type": "code",
   "execution_count": 100,
   "id": "3d0d038b-5df3-42b2-a6e4-a33454875e7d",
   "metadata": {
    "tags": []
   },
   "outputs": [
    {
     "data": {
      "text/plain": [
       "(array([0, 1], dtype=int64), array([155, 266], dtype=int64))"
      ]
     },
     "execution_count": 100,
     "metadata": {},
     "output_type": "execute_result"
    }
   ],
   "source": [
    "np.unique(y_test_clinical,return_counts=True)"
   ]
  },
  {
   "cell_type": "code",
   "execution_count": 101,
   "id": "0907b74e-0cd4-4489-80ac-6da98ed4147c",
   "metadata": {
    "tags": []
   },
   "outputs": [
    {
     "data": {
      "text/plain": [
       "array([  3,   5,   7,   8,  10,  12,  14,  18,  19,  20,  21,  24,  25,\n",
       "        27,  28,  29,  34,  35,  36,  40,  42,  44,  46,  47,  51,  52,\n",
       "        65,  66,  69,  72,  74,  75,  76,  79,  83,  85,  88,  89,  90,\n",
       "        93,  94,  95,  96,  97, 105, 106, 108, 111, 114, 117, 123, 124,\n",
       "       125, 128, 132, 134, 135, 137, 139, 140, 142, 143, 145, 147, 150,\n",
       "       152, 153, 158, 162, 164, 166, 169, 170, 171, 174, 179, 180, 184,\n",
       "       189, 190, 196, 203, 204, 205, 206, 215, 216, 220, 226, 227, 232,\n",
       "       234, 238, 249, 252, 253, 258, 260, 262, 263, 265, 267, 268, 270,\n",
       "       273, 277, 279, 290, 295, 296, 297, 302, 305, 309, 310, 313, 315,\n",
       "       316, 317, 320, 324, 326, 331, 333, 334, 335, 340, 344, 347, 350,\n",
       "       354, 361, 362, 364, 369, 370, 373, 376, 377, 383, 387, 390, 391,\n",
       "       392, 393, 396, 397, 403, 407, 408, 412, 415, 418, 419, 420],\n",
       "      dtype=int64)"
      ]
     },
     "execution_count": 101,
     "metadata": {},
     "output_type": "execute_result"
    }
   ],
   "source": [
    "np.where(y_test_clinical==0)[0]"
   ]
  },
  {
   "cell_type": "code",
   "execution_count": 102,
   "id": "942b4283-1cf0-469d-af11-af346cda4480",
   "metadata": {
    "tags": []
   },
   "outputs": [
    {
     "data": {
      "text/plain": [
       "array([117, 376, 408, 403, 139, 216,  96, 390,  83, 215, 317, 204,  20,\n",
       "       364,  94,  52, 320, 179, 150, 324, 270,  47, 226, 297,  40,  24,\n",
       "       132, 125, 397, 147, 418, 415, 344, 407, 203, 114, 180, 392, 316,\n",
       "       354,  34, 362,  25,  79, 152], dtype=int64)"
      ]
     },
     "execution_count": 102,
     "metadata": {},
     "output_type": "execute_result"
    }
   ],
   "source": [
    "np.random.choice(np.where(y_test_clinical==0)[0],size=45,replace=False)"
   ]
  },
  {
   "cell_type": "code",
   "execution_count": 103,
   "id": "84b30438-76ef-46bc-81cd-b0031aff1b2c",
   "metadata": {
    "tags": []
   },
   "outputs": [
    {
     "data": {
      "text/plain": [
       "0"
      ]
     },
     "execution_count": 103,
     "metadata": {},
     "output_type": "execute_result"
    }
   ],
   "source": [
    "y_test_clinical.iloc[75]"
   ]
  },
  {
   "cell_type": "code",
   "execution_count": 104,
   "id": "373b42a5-4638-4057-96b2-e9c1d6ab8d17",
   "metadata": {
    "tags": []
   },
   "outputs": [],
   "source": [
    "np.random.seed(0)"
   ]
  },
  {
   "cell_type": "code",
   "execution_count": 105,
   "id": "353d7420-3e80-4162-9020-bde0d900bd62",
   "metadata": {
    "tags": []
   },
   "outputs": [
    {
     "data": {
      "text/plain": [
       "1"
      ]
     },
     "execution_count": 105,
     "metadata": {},
     "output_type": "execute_result"
    }
   ],
   "source": [
    "indexes = np.where(y_test_clinical == 1)[0]\n",
    "sampled_indexes_positive = np.random.choice(indexes, size=45, replace=False)\n",
    "y_test_clinical.iloc[sampled_indexes_positive[0]]"
   ]
  },
  {
   "cell_type": "code",
   "execution_count": 106,
   "id": "7583d9e3-0e09-4e29-a442-98e8781fd717",
   "metadata": {
    "tags": []
   },
   "outputs": [
    {
     "data": {
      "text/plain": [
       "0"
      ]
     },
     "execution_count": 106,
     "metadata": {},
     "output_type": "execute_result"
    }
   ],
   "source": [
    "zero_indexes = np.where(y_test_clinical == 0)[0]\n",
    "sampled_indexes_negative = np.random.choice(zero_indexes, size=45, replace=False)\n",
    "y_test_clinical.iloc[sampled_indexes_negative[0]]"
   ]
  },
  {
   "cell_type": "code",
   "execution_count": 107,
   "id": "cc93a444-832f-422b-ad15-cba9a78a8144",
   "metadata": {
    "tags": []
   },
   "outputs": [],
   "source": [
    "# seed_clinical.shape"
   ]
  },
  {
   "cell_type": "code",
   "execution_count": 108,
   "id": "316c59cb-d05e-417e-91bc-e02b9010d0ef",
   "metadata": {
    "tags": []
   },
   "outputs": [],
   "source": [
    "seed_clinical = np.concatenate((sampled_indexes_negative,sampled_indexes_positive))\n",
    "# seed_clinical.append([1]*45)\n",
    "\n",
    "seed_clinical = np.array(seed_clinical)\n",
    "dff.loc[seed_clinical[0]]\n",
    "# X_test_clinical\n",
    "X_test_clinical_final = X_test_clinical.iloc[seed_clinical]"
   ]
  },
  {
   "cell_type": "code",
   "execution_count": 109,
   "id": "f60f0ff4-4ad2-4000-bfcd-fc71ee5e5017",
   "metadata": {
    "tags": []
   },
   "outputs": [],
   "source": [
    "y_test_clinical_final = np.array(y_test_clinical.iloc[seed_clinical])"
   ]
  },
  {
   "cell_type": "code",
   "execution_count": 110,
   "id": "216db4e8-48b5-496c-bb47-5c0fafd3042b",
   "metadata": {
    "tags": []
   },
   "outputs": [
    {
     "data": {
      "text/html": [
       "<div>\n",
       "<style scoped>\n",
       "    .dataframe tbody tr th:only-of-type {\n",
       "        vertical-align: middle;\n",
       "    }\n",
       "\n",
       "    .dataframe tbody tr th {\n",
       "        vertical-align: top;\n",
       "    }\n",
       "\n",
       "    .dataframe thead th {\n",
       "        text-align: right;\n",
       "    }\n",
       "</style>\n",
       "<table border=\"1\" class=\"dataframe\">\n",
       "  <thead>\n",
       "    <tr style=\"text-align: right;\">\n",
       "      <th></th>\n",
       "      <th>Age</th>\n",
       "      <th>FamilyHistoryParkinsons</th>\n",
       "      <th>Depression</th>\n",
       "      <th>CholesterolTotal</th>\n",
       "      <th>UPDRS</th>\n",
       "      <th>MoCA</th>\n",
       "      <th>FunctionalAssessment</th>\n",
       "      <th>Tremor</th>\n",
       "      <th>Rigidity</th>\n",
       "      <th>Bradykinesia</th>\n",
       "      <th>PosturalInstability</th>\n",
       "      <th>SpeechProblems</th>\n",
       "      <th>SleepDisorders</th>\n",
       "    </tr>\n",
       "  </thead>\n",
       "  <tbody>\n",
       "    <tr>\n",
       "      <th>402</th>\n",
       "      <td>67</td>\n",
       "      <td>1</td>\n",
       "      <td>1</td>\n",
       "      <td>155.042558</td>\n",
       "      <td>61.856789</td>\n",
       "      <td>15.946031</td>\n",
       "      <td>8.677777</td>\n",
       "      <td>0</td>\n",
       "      <td>0</td>\n",
       "      <td>0</td>\n",
       "      <td>0</td>\n",
       "      <td>0</td>\n",
       "      <td>0</td>\n",
       "    </tr>\n",
       "    <tr>\n",
       "      <th>1044</th>\n",
       "      <td>68</td>\n",
       "      <td>0</td>\n",
       "      <td>1</td>\n",
       "      <td>225.313078</td>\n",
       "      <td>138.592227</td>\n",
       "      <td>18.055026</td>\n",
       "      <td>8.630427</td>\n",
       "      <td>0</td>\n",
       "      <td>0</td>\n",
       "      <td>0</td>\n",
       "      <td>0</td>\n",
       "      <td>0</td>\n",
       "      <td>1</td>\n",
       "    </tr>\n",
       "    <tr>\n",
       "      <th>2081</th>\n",
       "      <td>57</td>\n",
       "      <td>0</td>\n",
       "      <td>0</td>\n",
       "      <td>241.340579</td>\n",
       "      <td>33.830681</td>\n",
       "      <td>21.756980</td>\n",
       "      <td>7.415814</td>\n",
       "      <td>0</td>\n",
       "      <td>1</td>\n",
       "      <td>0</td>\n",
       "      <td>0</td>\n",
       "      <td>0</td>\n",
       "      <td>1</td>\n",
       "    </tr>\n",
       "    <tr>\n",
       "      <th>487</th>\n",
       "      <td>82</td>\n",
       "      <td>1</td>\n",
       "      <td>1</td>\n",
       "      <td>287.191925</td>\n",
       "      <td>10.036246</td>\n",
       "      <td>9.816540</td>\n",
       "      <td>0.057130</td>\n",
       "      <td>1</td>\n",
       "      <td>0</td>\n",
       "      <td>0</td>\n",
       "      <td>0</td>\n",
       "      <td>1</td>\n",
       "      <td>1</td>\n",
       "    </tr>\n",
       "    <tr>\n",
       "      <th>1928</th>\n",
       "      <td>55</td>\n",
       "      <td>1</td>\n",
       "      <td>0</td>\n",
       "      <td>254.383555</td>\n",
       "      <td>41.537263</td>\n",
       "      <td>1.092511</td>\n",
       "      <td>0.294281</td>\n",
       "      <td>0</td>\n",
       "      <td>0</td>\n",
       "      <td>0</td>\n",
       "      <td>0</td>\n",
       "      <td>0</td>\n",
       "      <td>0</td>\n",
       "    </tr>\n",
       "    <tr>\n",
       "      <th>...</th>\n",
       "      <td>...</td>\n",
       "      <td>...</td>\n",
       "      <td>...</td>\n",
       "      <td>...</td>\n",
       "      <td>...</td>\n",
       "      <td>...</td>\n",
       "      <td>...</td>\n",
       "      <td>...</td>\n",
       "      <td>...</td>\n",
       "      <td>...</td>\n",
       "      <td>...</td>\n",
       "      <td>...</td>\n",
       "      <td>...</td>\n",
       "    </tr>\n",
       "    <tr>\n",
       "      <th>1103</th>\n",
       "      <td>71</td>\n",
       "      <td>1</td>\n",
       "      <td>0</td>\n",
       "      <td>279.463184</td>\n",
       "      <td>72.427163</td>\n",
       "      <td>19.003866</td>\n",
       "      <td>0.223328</td>\n",
       "      <td>0</td>\n",
       "      <td>0</td>\n",
       "      <td>1</td>\n",
       "      <td>0</td>\n",
       "      <td>0</td>\n",
       "      <td>0</td>\n",
       "    </tr>\n",
       "    <tr>\n",
       "      <th>1519</th>\n",
       "      <td>50</td>\n",
       "      <td>0</td>\n",
       "      <td>0</td>\n",
       "      <td>163.874393</td>\n",
       "      <td>73.742519</td>\n",
       "      <td>23.370095</td>\n",
       "      <td>9.966954</td>\n",
       "      <td>1</td>\n",
       "      <td>0</td>\n",
       "      <td>0</td>\n",
       "      <td>0</td>\n",
       "      <td>0</td>\n",
       "      <td>0</td>\n",
       "    </tr>\n",
       "    <tr>\n",
       "      <th>182</th>\n",
       "      <td>84</td>\n",
       "      <td>0</td>\n",
       "      <td>0</td>\n",
       "      <td>240.054663</td>\n",
       "      <td>191.529863</td>\n",
       "      <td>3.133874</td>\n",
       "      <td>8.369781</td>\n",
       "      <td>1</td>\n",
       "      <td>0</td>\n",
       "      <td>0</td>\n",
       "      <td>1</td>\n",
       "      <td>0</td>\n",
       "      <td>0</td>\n",
       "    </tr>\n",
       "    <tr>\n",
       "      <th>1414</th>\n",
       "      <td>71</td>\n",
       "      <td>0</td>\n",
       "      <td>1</td>\n",
       "      <td>226.454340</td>\n",
       "      <td>131.569986</td>\n",
       "      <td>3.593360</td>\n",
       "      <td>4.481687</td>\n",
       "      <td>0</td>\n",
       "      <td>0</td>\n",
       "      <td>0</td>\n",
       "      <td>1</td>\n",
       "      <td>0</td>\n",
       "      <td>1</td>\n",
       "    </tr>\n",
       "    <tr>\n",
       "      <th>2073</th>\n",
       "      <td>66</td>\n",
       "      <td>0</td>\n",
       "      <td>0</td>\n",
       "      <td>263.211233</td>\n",
       "      <td>82.056544</td>\n",
       "      <td>18.395877</td>\n",
       "      <td>9.099938</td>\n",
       "      <td>0</td>\n",
       "      <td>0</td>\n",
       "      <td>0</td>\n",
       "      <td>0</td>\n",
       "      <td>0</td>\n",
       "      <td>0</td>\n",
       "    </tr>\n",
       "  </tbody>\n",
       "</table>\n",
       "<p>90 rows × 13 columns</p>\n",
       "</div>"
      ],
      "text/plain": [
       "      Age  FamilyHistoryParkinsons  Depression  CholesterolTotal       UPDRS  \\\n",
       "402    67                        1           1        155.042558   61.856789   \n",
       "1044   68                        0           1        225.313078  138.592227   \n",
       "2081   57                        0           0        241.340579   33.830681   \n",
       "487    82                        1           1        287.191925   10.036246   \n",
       "1928   55                        1           0        254.383555   41.537263   \n",
       "...   ...                      ...         ...               ...         ...   \n",
       "1103   71                        1           0        279.463184   72.427163   \n",
       "1519   50                        0           0        163.874393   73.742519   \n",
       "182    84                        0           0        240.054663  191.529863   \n",
       "1414   71                        0           1        226.454340  131.569986   \n",
       "2073   66                        0           0        263.211233   82.056544   \n",
       "\n",
       "           MoCA  FunctionalAssessment  Tremor  Rigidity  Bradykinesia  \\\n",
       "402   15.946031              8.677777       0         0             0   \n",
       "1044  18.055026              8.630427       0         0             0   \n",
       "2081  21.756980              7.415814       0         1             0   \n",
       "487    9.816540              0.057130       1         0             0   \n",
       "1928   1.092511              0.294281       0         0             0   \n",
       "...         ...                   ...     ...       ...           ...   \n",
       "1103  19.003866              0.223328       0         0             1   \n",
       "1519  23.370095              9.966954       1         0             0   \n",
       "182    3.133874              8.369781       1         0             0   \n",
       "1414   3.593360              4.481687       0         0             0   \n",
       "2073  18.395877              9.099938       0         0             0   \n",
       "\n",
       "      PosturalInstability  SpeechProblems  SleepDisorders  \n",
       "402                     0               0               0  \n",
       "1044                    0               0               1  \n",
       "2081                    0               0               1  \n",
       "487                     0               1               1  \n",
       "1928                    0               0               0  \n",
       "...                   ...             ...             ...  \n",
       "1103                    0               0               0  \n",
       "1519                    0               0               0  \n",
       "182                     1               0               0  \n",
       "1414                    1               0               1  \n",
       "2073                    0               0               0  \n",
       "\n",
       "[90 rows x 13 columns]"
      ]
     },
     "execution_count": 110,
     "metadata": {},
     "output_type": "execute_result"
    }
   ],
   "source": [
    "X_test_clinical_final"
   ]
  },
  {
   "cell_type": "code",
   "execution_count": 111,
   "id": "b97d642a-c05e-4fc3-96e4-1768af6a7c48",
   "metadata": {
    "tags": []
   },
   "outputs": [
    {
     "data": {
      "text/plain": [
       "array([0, 0, 0, 0, 0, 0, 0, 0, 0, 0, 0, 0, 0, 0, 0, 0, 0, 0, 0, 0, 0, 0,\n",
       "       0, 0, 0, 0, 0, 0, 0, 0, 0, 0, 0, 0, 0, 0, 0, 0, 0, 0, 0, 0, 0, 0,\n",
       "       0, 1, 1, 1, 1, 1, 1, 1, 1, 1, 1, 1, 1, 1, 1, 1, 1, 1, 1, 1, 1, 1,\n",
       "       1, 1, 1, 1, 1, 1, 1, 1, 1, 1, 1, 1, 1, 1, 1, 1, 1, 1, 1, 1, 1, 1,\n",
       "       1, 1], dtype=int64)"
      ]
     },
     "execution_count": 111,
     "metadata": {},
     "output_type": "execute_result"
    }
   ],
   "source": [
    "y_test_clinical_final"
   ]
  },
  {
   "cell_type": "code",
   "execution_count": 112,
   "id": "d189d2c2-94e6-422b-a85a-242b319b955d",
   "metadata": {
    "tags": []
   },
   "outputs": [],
   "source": [
    "dtest = xgb.DMatrix(X_test_clinical_final, label=y_test_clinical_final)"
   ]
  },
  {
   "cell_type": "code",
   "execution_count": null,
   "id": "b78b06ea-983e-4ee8-8d02-c56ad5d3c6d3",
   "metadata": {},
   "outputs": [],
   "source": []
  },
  {
   "cell_type": "code",
   "execution_count": 113,
   "id": "2da40f1e-b6e2-4f1a-ad08-95a02f4b6567",
   "metadata": {
    "tags": []
   },
   "outputs": [],
   "source": [
    "clinical_preds = svcModel.predict(X_test_clinical_final)"
   ]
  },
  {
   "cell_type": "code",
   "execution_count": 114,
   "id": "1a5390fa-9949-478c-ad88-2d0a992407b6",
   "metadata": {
    "tags": []
   },
   "outputs": [
    {
     "data": {
      "text/plain": [
       "array([0, 0, 0, 0, 0, 0, 0, 1, 0, 0, 0, 0, 1, 0, 0, 0, 0, 0, 0, 0, 0, 0,\n",
       "       0, 0, 0, 0, 0, 1, 0, 0, 1, 0, 0, 0, 1, 0, 0, 1, 0, 0, 0, 0, 0, 0,\n",
       "       0, 1, 1, 1, 1, 1, 1, 1, 1, 1, 1, 1, 1, 1, 1, 0, 1, 1, 1, 1, 1, 1,\n",
       "       1, 1, 1, 1, 1, 1, 1, 1, 1, 1, 1, 1, 1, 1, 1, 1, 1, 1, 1, 1, 1, 1,\n",
       "       1, 0], dtype=int64)"
      ]
     },
     "execution_count": 114,
     "metadata": {},
     "output_type": "execute_result"
    }
   ],
   "source": [
    "clinical_preds"
   ]
  },
  {
   "cell_type": "code",
   "execution_count": 115,
   "id": "1322376e-b0a3-49c5-9978-92b05a1771db",
   "metadata": {
    "tags": []
   },
   "outputs": [],
   "source": [
    "DF = pd.DataFrame(columns=['CNN_Confidence','clinical_confidence','diagnosis'])"
   ]
  },
  {
   "cell_type": "code",
   "execution_count": 116,
   "id": "a741aacc-f716-454b-8658-2d748dc5dde5",
   "metadata": {
    "tags": []
   },
   "outputs": [],
   "source": [
    "# Y_test_image_labels"
   ]
  },
  {
   "cell_type": "code",
   "execution_count": 117,
   "id": "424be48f-8ebf-4a94-9459-1aa3f537445a",
   "metadata": {
    "scrolled": true,
    "tags": []
   },
   "outputs": [
    {
     "data": {
      "text/plain": [
       "[0.04715079069137573,\n",
       " 0.07326042652130127,\n",
       " 0.054344743490219116,\n",
       " 5.960464477539063e-08,\n",
       " 0.04601505398750305,\n",
       " 1.1920928955078125e-07,\n",
       " 2.086162567138672e-07,\n",
       " 2.980232238769531e-07,\n",
       " 0.09845471382141113,\n",
       " 5.960464477539063e-08,\n",
       " 1.7881393432617188e-07,\n",
       " 8.940696716308594e-08,\n",
       " 1.7881393432617188e-07,\n",
       " 5.066394805908203e-07,\n",
       " 5.960464477539063e-08,\n",
       " 2.980232238769531e-07,\n",
       " 0.09743058681488037,\n",
       " 1.1920928955078125e-07,\n",
       " 1.7881393432617188e-07,\n",
       " 2.384185791015625e-07,\n",
       " 0.09715503454208374,\n",
       " 0.05356478691101074,\n",
       " 2.682209014892578e-07,\n",
       " 1.1920928955078125e-07,\n",
       " 0.05705663561820984,\n",
       " 5.960464477539063e-08,\n",
       " 4.470348358154297e-07,\n",
       " 5.960464477539063e-08,\n",
       " 3.5762786865234375e-07,\n",
       " 0.04601505398750305,\n",
       " 0.05705663561820984,\n",
       " 2.384185791015625e-07,\n",
       " 0.07404455542564392,\n",
       " 2.086162567138672e-07,\n",
       " 0.047133684158325195,\n",
       " 2.384185791015625e-07,\n",
       " 5.960464477539063e-08,\n",
       " 0.09715503454208374,\n",
       " 0.029753029346466064,\n",
       " 0.030162781476974487,\n",
       " 5.960464477539063e-08,\n",
       " 8.940696716308594e-08,\n",
       " 0.047133684158325195,\n",
       " 2.980232238769531e-07,\n",
       " 5.066394805908203e-07,\n",
       " 0.8849819004535675,\n",
       " 0.8411796689033508,\n",
       " 0.13472402095794678,\n",
       " 0.9999996721744537,\n",
       " 0.0653039813041687,\n",
       " 0.9999997019767761,\n",
       " 0.9999998807907104,\n",
       " 0.9999997615814209,\n",
       " 0.9141336679458618,\n",
       " 0.9999997615814209,\n",
       " 1.0000001192092896,\n",
       " 1.0000000596046448,\n",
       " 0.9999998211860657,\n",
       " 1.0000002980232239,\n",
       " 0.9999997615814209,\n",
       " 0.9999997615814209,\n",
       " 0.9057800769805908,\n",
       " 1.0000001192092896,\n",
       " 1.0000001192092896,\n",
       " 0.9999998807907104,\n",
       " 0.8747004270553589,\n",
       " 0.9001836776733398,\n",
       " 0.9999997317790985,\n",
       " 1.0000001192092896,\n",
       " 0.893825113773346,\n",
       " 1.0,\n",
       " 0.9999997317790985,\n",
       " 0.9999997615814209,\n",
       " 1.0000001788139343,\n",
       " 0.0653039813041687,\n",
       " 0.893825113773346,\n",
       " 0.9999998807907104,\n",
       " 0.8998717963695526,\n",
       " 0.9999998807907104,\n",
       " 0.09804460406303406,\n",
       " 1.0000001192092896,\n",
       " 0.9999996721744537,\n",
       " 0.8747004270553589,\n",
       " 0.946456789970398,\n",
       " 0.9285675585269928,\n",
       " 1.0,\n",
       " 1.0000000596046448,\n",
       " 0.09804460406303406,\n",
       " 0.9999997615814209,\n",
       " 1.0000002980232239]"
      ]
     },
     "execution_count": 117,
     "metadata": {},
     "output_type": "execute_result"
    }
   ],
   "source": [
    "image_confidence"
   ]
  },
  {
   "cell_type": "code",
   "execution_count": 118,
   "id": "c2c5eadf-9915-446a-9867-6b36c447cee9",
   "metadata": {
    "tags": []
   },
   "outputs": [],
   "source": [
    "# Assuming DF is your existing DataFrame\n",
    "new_rows = []\n",
    "for i in range(0, 90):\n",
    "    new_rows.append([image_confidence[i], clinical_preds[i], Y_test_image_labels[i]])\n",
    "\n",
    "# Create a new DataFrame from the new rows\n",
    "new_df = pd.DataFrame(new_rows, columns=['Image Confidence', 'Clinical Predictions', 'Test Labels'])\n",
    "\n",
    "# Concatenate the new DataFrame with the existing one\n",
    "DF = pd.concat([DF, new_df], ignore_index=True)"
   ]
  },
  {
   "cell_type": "code",
   "execution_count": 119,
   "id": "19784975-84e1-4d25-bd8c-aca3947f5799",
   "metadata": {
    "tags": []
   },
   "outputs": [],
   "source": [
    "DF = DF.drop(['CNN_Confidence','clinical_confidence','diagnosis'],axis=1)"
   ]
  },
  {
   "cell_type": "code",
   "execution_count": 120,
   "id": "9a7b5dec-4cfd-44cf-b984-28a4c3710122",
   "metadata": {
    "tags": []
   },
   "outputs": [
    {
     "data": {
      "text/html": [
       "<div>\n",
       "<style scoped>\n",
       "    .dataframe tbody tr th:only-of-type {\n",
       "        vertical-align: middle;\n",
       "    }\n",
       "\n",
       "    .dataframe tbody tr th {\n",
       "        vertical-align: top;\n",
       "    }\n",
       "\n",
       "    .dataframe thead th {\n",
       "        text-align: right;\n",
       "    }\n",
       "</style>\n",
       "<table border=\"1\" class=\"dataframe\">\n",
       "  <thead>\n",
       "    <tr style=\"text-align: right;\">\n",
       "      <th></th>\n",
       "      <th>Image Confidence</th>\n",
       "      <th>Clinical Predictions</th>\n",
       "      <th>Test Labels</th>\n",
       "    </tr>\n",
       "  </thead>\n",
       "  <tbody>\n",
       "    <tr>\n",
       "      <th>0</th>\n",
       "      <td>4.715079e-02</td>\n",
       "      <td>0.0</td>\n",
       "      <td>0.0</td>\n",
       "    </tr>\n",
       "    <tr>\n",
       "      <th>1</th>\n",
       "      <td>7.326043e-02</td>\n",
       "      <td>0.0</td>\n",
       "      <td>0.0</td>\n",
       "    </tr>\n",
       "    <tr>\n",
       "      <th>2</th>\n",
       "      <td>5.434474e-02</td>\n",
       "      <td>0.0</td>\n",
       "      <td>0.0</td>\n",
       "    </tr>\n",
       "    <tr>\n",
       "      <th>3</th>\n",
       "      <td>5.960464e-08</td>\n",
       "      <td>0.0</td>\n",
       "      <td>0.0</td>\n",
       "    </tr>\n",
       "    <tr>\n",
       "      <th>4</th>\n",
       "      <td>4.601505e-02</td>\n",
       "      <td>0.0</td>\n",
       "      <td>0.0</td>\n",
       "    </tr>\n",
       "    <tr>\n",
       "      <th>...</th>\n",
       "      <td>...</td>\n",
       "      <td>...</td>\n",
       "      <td>...</td>\n",
       "    </tr>\n",
       "    <tr>\n",
       "      <th>85</th>\n",
       "      <td>1.000000e+00</td>\n",
       "      <td>1.0</td>\n",
       "      <td>1.0</td>\n",
       "    </tr>\n",
       "    <tr>\n",
       "      <th>86</th>\n",
       "      <td>1.000000e+00</td>\n",
       "      <td>1.0</td>\n",
       "      <td>1.0</td>\n",
       "    </tr>\n",
       "    <tr>\n",
       "      <th>87</th>\n",
       "      <td>9.804460e-02</td>\n",
       "      <td>1.0</td>\n",
       "      <td>1.0</td>\n",
       "    </tr>\n",
       "    <tr>\n",
       "      <th>88</th>\n",
       "      <td>9.999998e-01</td>\n",
       "      <td>1.0</td>\n",
       "      <td>1.0</td>\n",
       "    </tr>\n",
       "    <tr>\n",
       "      <th>89</th>\n",
       "      <td>1.000000e+00</td>\n",
       "      <td>0.0</td>\n",
       "      <td>1.0</td>\n",
       "    </tr>\n",
       "  </tbody>\n",
       "</table>\n",
       "<p>90 rows × 3 columns</p>\n",
       "</div>"
      ],
      "text/plain": [
       "    Image Confidence  Clinical Predictions  Test Labels\n",
       "0       4.715079e-02                   0.0          0.0\n",
       "1       7.326043e-02                   0.0          0.0\n",
       "2       5.434474e-02                   0.0          0.0\n",
       "3       5.960464e-08                   0.0          0.0\n",
       "4       4.601505e-02                   0.0          0.0\n",
       "..               ...                   ...          ...\n",
       "85      1.000000e+00                   1.0          1.0\n",
       "86      1.000000e+00                   1.0          1.0\n",
       "87      9.804460e-02                   1.0          1.0\n",
       "88      9.999998e-01                   1.0          1.0\n",
       "89      1.000000e+00                   0.0          1.0\n",
       "\n",
       "[90 rows x 3 columns]"
      ]
     },
     "execution_count": 120,
     "metadata": {},
     "output_type": "execute_result"
    }
   ],
   "source": [
    "DF"
   ]
  },
  {
   "cell_type": "code",
   "execution_count": 121,
   "id": "0771fc43-c2ed-48e5-879a-0e67c04667b8",
   "metadata": {
    "tags": []
   },
   "outputs": [],
   "source": [
    "from sklearn.linear_model import LogisticRegression\n",
    "from sklearn.svm import SVC\n",
    "\n",
    "\n",
    "X_FINAL,X_FINAL_HOLDOUT,Y_FINAL,Y_FINAL_HOLDOUT = train_test_split(DF.drop('Test Labels',axis=1),Y_test_image_labels,random_state=0,test_size=0.2)"
   ]
  },
  {
   "cell_type": "code",
   "execution_count": 130,
   "id": "8a77763d-644c-43bd-9be1-db74c90145a5",
   "metadata": {
    "tags": []
   },
   "outputs": [
    {
     "data": {
      "text/plain": [
       "array([0, 0, 1, 0, 1, 1, 1, 0, 1, 1, 1, 0, 0, 1, 0, 0, 0, 1])"
      ]
     },
     "execution_count": 130,
     "metadata": {},
     "output_type": "execute_result"
    }
   ],
   "source": [
    "model = LogisticRegression()\n",
    "model.fit(X_FINAL,Y_FINAL)\n",
    "Y_HOLDOUT_PREDS = model.predict(X_FINAL_HOLDOUT)\n",
    "Y_HOLDOUT_PREDS"
   ]
  },
  {
   "cell_type": "code",
   "execution_count": 131,
   "id": "21aea50a-05c5-4944-903f-3c1db0217554",
   "metadata": {
    "tags": []
   },
   "outputs": [
    {
     "data": {
      "text/plain": [
       "[0, 0, 1, 0, 1, 0, 1, 0, 1, 1, 0, 0, 0, 1, 0, 0, 0, 1]"
      ]
     },
     "execution_count": 131,
     "metadata": {},
     "output_type": "execute_result"
    }
   ],
   "source": [
    "Y_FINAL_HOLDOUT"
   ]
  },
  {
   "cell_type": "code",
   "execution_count": 132,
   "id": "b5ee31b1-3206-4649-9422-b5da087dd043",
   "metadata": {},
   "outputs": [
    {
     "data": {
      "image/png": "[encoded data removed]",
      "text/plain": [
       "<Figure size 640x480 with 2 Axes>"
      ]
     },
     "metadata": {},
     "output_type": "display_data"
    }
   ],
   "source": [
    "disp = ConfusionMatrixDisplay(confusion_matrix(Y_HOLDOUT_PREDS,Y_FINAL_HOLDOUT))\n",
    "disp.plot(cmap=plt.cm.plasma)\n",
    "plt.show()"
   ]
  },
  {
   "cell_type": "code",
   "execution_count": 133,
   "id": "5f816de4-da6f-4e8c-ac14-1c914c2e9282",
   "metadata": {
    "tags": []
   },
   "outputs": [
    {
     "name": "stdout",
     "output_type": "stream",
     "text": [
      "precision: 1.0 recall: 0.7777777777777778 acc: 0.8888888888888888\n"
     ]
    }
   ],
   "source": [
    "from sklearn.metrics import accuracy_score\n",
    "print(f\"precision: {precision_score(Y_HOLDOUT_PREDS,Y_FINAL_HOLDOUT)} recall: {recall_score(Y_HOLDOUT_PREDS,Y_FINAL_HOLDOUT)} acc: {accuracy_score(Y_HOLDOUT_PREDS,Y_FINAL_HOLDOUT)}\")"
   ]
  },
  {
   "cell_type": "code",
   "execution_count": 134,
   "id": "c7a57022-4cd9-48f7-a083-14e0d21e3f0d",
   "metadata": {},
   "outputs": [
    {
     "data": {
      "text/plain": [
       "array([0, 0, 1, 0, 1, 1, 1, 0, 1, 1, 1, 0, 0, 1, 0, 0, 0, 1])"
      ]
     },
     "execution_count": 134,
     "metadata": {},
     "output_type": "execute_result"
    }
   ],
   "source": [
    "model = SVC(kernel='rbf')\n",
    "model.fit(X_FINAL,Y_FINAL)\n",
    "Y_HOLDOUT_PREDS = model.predict(X_FINAL_HOLDOUT)\n",
    "Y_HOLDOUT_PREDS"
   ]
  },
  {
   "cell_type": "code",
   "execution_count": 135,
   "id": "b088e87f-7193-4573-ad2b-aa0e7615febc",
   "metadata": {},
   "outputs": [
    {
     "data": {
      "image/png": "[encoded data removed]",
      "text/plain": [
       "<Figure size 640x480 with 2 Axes>"
      ]
     },
     "metadata": {},
     "output_type": "display_data"
    }
   ],
   "source": [
    "disp = ConfusionMatrixDisplay(confusion_matrix(Y_HOLDOUT_PREDS,Y_FINAL_HOLDOUT))\n",
    "disp.plot(cmap=plt.cm.plasma)\n",
    "plt.show()"
   ]
  },
  {
   "cell_type": "code",
   "execution_count": 136,
   "id": "f6cc76ac",
   "metadata": {},
   "outputs": [
    {
     "data": {
      "text/plain": [
       "0.8888888888888888"
      ]
     },
     "execution_count": 136,
     "metadata": {},
     "output_type": "execute_result"
    }
   ],
   "source": [
    "from sklearn.metrics import accuracy_score\n",
    "accuracy_score(Y_HOLDOUT_PREDS,Y_FINAL_HOLDOUT)"
   ]
  },
  {
   "cell_type": "code",
   "execution_count": 138,
   "id": "69df0be1",
   "metadata": {},
   "outputs": [
    {
     "name": "stdout",
     "output_type": "stream",
     "text": [
      "precision: 1.0 recall: 0.7777777777777778 acc: 0.8888888888888888\n"
     ]
    }
   ],
   "source": [
    "print(f\"precision: {precision_score(Y_HOLDOUT_PREDS,Y_FINAL_HOLDOUT)} recall: {recall_score(Y_HOLDOUT_PREDS,Y_FINAL_HOLDOUT)} acc: {accuracy_score(Y_HOLDOUT_PREDS,Y_FINAL_HOLDOUT)}\")"
   ]
  },
  {
   "cell_type": "code",
   "execution_count": null,
   "id": "d6b35d7f",
   "metadata": {},
   "outputs": [],
   "source": []
  },
  {
   "cell_type": "code",
   "execution_count": null,
   "id": "45fe7339",
   "metadata": {},
   "outputs": [],
   "source": []
  },
  {
   "cell_type": "code",
   "execution_count": null,
   "id": "33a10cb1",
   "metadata": {},
   "outputs": [],
   "source": []
  }
 ],
 "metadata": {
  "kernelspec": {
   "display_name": "Python 3 (ipykernel)",
   "language": "python",
   "name": "python3"
  }
 },
 "nbformat": 4,
 "nbformat_minor": 5
}
